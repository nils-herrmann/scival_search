{
 "cells": [
  {
   "cell_type": "code",
   "execution_count": null,
   "id": "ec32dac1",
   "metadata": {},
   "outputs": [],
   "source": [
    "import os\n",
    "import pandas as pd\n",
    "import requests\n",
    "\n",
    "from dotenv import load_dotenv\n",
    "from io import StringIO\n",
    "from math import ceil\n",
    "from tqdm import tqdm\n",
    "\n",
    "from pybliometrics.scival import PublicationLookup, init\n",
    "from utils import get_content, parse_scival_info, split_lines\n",
    "\n",
    "load_dotenv()\n",
    "init()\n",
    "\n",
    "# SET COOKIE in .env file\n",
    "COOKIE = os.getenv('COOKIE')"
   ]
  },
  {
   "cell_type": "code",
   "execution_count": 9,
   "id": "e827b1f4",
   "metadata": {},
   "outputs": [],
   "source": [
    "# Get topic ID for pybliometrics paper\n",
    "pl = PublicationLookup('85068268027')\n",
    "topic_id = pl.topic_id"
   ]
  },
  {
   "cell_type": "code",
   "execution_count": 10,
   "id": "21cc7918",
   "metadata": {},
   "outputs": [
    {
     "name": "stdout",
     "output_type": "stream",
     "text": [
      "Data for topic ID 192: Publications in Impact of Citation Metrics on Scientific Evaluation T.192\n",
      "Year range: 1996 - 2025\n",
      "Total publications: 8906\n",
      "Retrieved per page: 1000\n"
     ]
    }
   ],
   "source": [
    "# Get first page content\n",
    "res_text = get_content(topic_id, cookie=COOKIE, page=1)\n",
    "\n",
    "# Split the response into intro and table data\n",
    "intro_lines, table_text = split_lines(res_text)\n",
    "\n",
    "info = parse_scival_info(intro_lines)\n",
    "n = info['total_publications']\n",
    "retrieved = info['publications_retrieved']\n",
    "num_pages = ceil(n / retrieved) - 1  # Subtract 1 since we already have page 1\n",
    "start = 2\n",
    "\n",
    "print(f\"Data for topic ID {topic_id}: {info[\"data_set\"]}\")\n",
    "print(f\"Year range: {info[\"start_year\"]} - {info[\"end_year\"]}\")\n",
    "print(f\"Total publications: {n}\")\n",
    "print(f\"Retrieved per page: {retrieved}\")"
   ]
  },
  {
   "cell_type": "code",
   "execution_count": 11,
   "id": "f4a82ce3",
   "metadata": {},
   "outputs": [
    {
     "name": "stderr",
     "output_type": "stream",
     "text": [
      "Fetching pages: 100%|██████████| 8/8 [00:51<00:00,  6.39s/it]\n"
     ]
    }
   ],
   "source": [
    "# Initialize list to store all table data\n",
    "all_table_lines = table_text.splitlines()[:-2]  # Exclude last two summary lines\n",
    "\n",
    "# Fetch remaining pages if there are more than 1 page\n",
    "if num_pages > 1:\n",
    "    for page in tqdm(range(start, start + num_pages), desc=\"Fetching pages\"):\n",
    "        text = get_content(topic_id, cookie=COOKIE, page=page)\n",
    "        \n",
    "        intro_lines, page_table_text = split_lines(text)\n",
    "        table_lines = page_table_text.splitlines()[1:-2] # Exclude header and last two summary lines\n",
    "\n",
    "        all_table_lines.extend(table_lines)"
   ]
  },
  {
   "cell_type": "code",
   "execution_count": 12,
   "id": "b56c7531",
   "metadata": {},
   "outputs": [],
   "source": [
    "# Create DataFrame from complete dataset\n",
    "df = pd.read_csv(StringIO(\"\\n\".join(all_table_lines)))\n",
    "assert df.shape[0] == n, f\"Expected {n} rows, got {df.shape[0]}\""
   ]
  },
  {
   "cell_type": "code",
   "execution_count": 14,
   "id": "405fa60c",
   "metadata": {},
   "outputs": [
    {
     "data": {
      "application/vnd.microsoft.datawrangler.viewer.v0+json": {
       "columns": [
        {
         "name": "index",
         "rawType": "int64",
         "type": "integer"
        },
        {
         "name": "Title",
         "rawType": "object",
         "type": "string"
        },
        {
         "name": "Authors",
         "rawType": "object",
         "type": "string"
        },
        {
         "name": "Year",
         "rawType": "int64",
         "type": "integer"
        },
        {
         "name": "Scopus Source title",
         "rawType": "object",
         "type": "string"
        },
        {
         "name": "Language",
         "rawType": "object",
         "type": "string"
        },
        {
         "name": "Citations",
         "rawType": "int64",
         "type": "integer"
        },
        {
         "name": "Field-Weighted Citation Impact",
         "rawType": "float64",
         "type": "float"
        },
        {
         "name": "Reference",
         "rawType": "object",
         "type": "string"
        },
        {
         "name": "Abstract",
         "rawType": "object",
         "type": "string"
        },
        {
         "name": "Publication type",
         "rawType": "object",
         "type": "string"
        },
        {
         "name": "Open Access",
         "rawType": "object",
         "type": "unknown"
        },
        {
         "name": "EID",
         "rawType": "object",
         "type": "string"
        },
        {
         "name": "Institutions",
         "rawType": "object",
         "type": "string"
        },
        {
         "name": "Number of Institutions",
         "rawType": "int64",
         "type": "integer"
        }
       ],
       "ref": "aa820715-4da4-4d92-8d63-38efc219c672",
       "rows": [
        [
         "0",
         "An index to quantify an individual's scientific research output",
         "Hirsch, J.E.",
         "2005",
         "Proceedings of the National Academy of Sciences of the United States of America",
         "English",
         "8964",
         "13.42",
         "Hirsch, J.E. (2005).An index to quantify an individual's scientific research output. Proceedings of the National Academy of Sciences of the United States of America,102(46) 16569-16572",
         "https://www.scopus.com/record/display.url?eid=2-s2.0-28044445101&origin=resultslist",
         "Article",
         "Green",
         "2-s2.0-28044445101",
         "University of California at San Diego",
         "1"
        ],
        [
         "1",
         "Comparison of PubMed, Scopus, Web of Science, and Google Scholar: Strengths and weaknesses",
         "Falagas, M.E.| Pitsouni, E.I.| Malietzis, G.A.| Pappas, G.",
         "2008",
         "FASEB Journal",
         "English",
         "3581",
         "9.02",
         "Falagas, M.E., Pitsouni, E.I., Malietzis, G.A. and 1 more (...) (2008).Comparison of PubMed, Scopus, Web of Science, and Google Scholar: Strengths and weaknesses. FASEB Journal,22(2) 338-342",
         "https://www.scopus.com/record/display.url?eid=2-s2.0-38949137710&origin=resultslist",
         "Article",
         null,
         "2-s2.0-38949137710",
         "Alfa Institute of Biomedical Sciences| Tufts University",
         "2"
        ],
        [
         "2",
         "The journal coverage of Web of Science and Scopus: a comparative analysis",
         "Mongeon, P.| Paul-Hus, A.",
         "2016",
         "Scientometrics",
         "English",
         "3161",
         "65.67",
         "Mongeon, P., Paul-Hus, A. (2016).The journal coverage of Web of Science and Scopus: a comparative analysis. Scientometrics,106(1) 213-228",
         "https://www.scopus.com/record/display.url?eid=2-s2.0-84954384742&origin=resultslist",
         "Article",
         null,
         "2-s2.0-84954384742",
         "University of Montreal",
         "1"
        ],
        [
         "3",
         "The history and meaning of the journal impact factor",
         "Garfield, E.",
         "2006",
         "JAMA",
         "English",
         "2046",
         "114.87",
         "Garfield, E. (2006).The history and meaning of the journal impact factor. JAMA,295(1) 90-93",
         "https://www.scopus.com/record/display.url?eid=2-s2.0-29944438252&origin=resultslist",
         "Note",
         null,
         "2-s2.0-29944438252",
         "-",
         "0"
        ],
        [
         "4",
         "Why the impact factor of journals should not be used for evaluating research",
         "Seglen, P.O.",
         "1997",
         "British Medical Journal",
         "English",
         "1972",
         "18.87",
         "Seglen, P.O. (1997).Why the impact factor of journals should not be used for evaluating research. British Medical Journal,314(7079) 498-502",
         "https://www.scopus.com/record/display.url?eid=2-s2.0-0031049280&origin=resultslist",
         "Article",
         null,
         "2-s2.0-0031049280",
         "-",
         "0"
        ]
       ],
       "shape": {
        "columns": 14,
        "rows": 5
       }
      },
      "text/html": [
       "<div>\n",
       "<style scoped>\n",
       "    .dataframe tbody tr th:only-of-type {\n",
       "        vertical-align: middle;\n",
       "    }\n",
       "\n",
       "    .dataframe tbody tr th {\n",
       "        vertical-align: top;\n",
       "    }\n",
       "\n",
       "    .dataframe thead th {\n",
       "        text-align: right;\n",
       "    }\n",
       "</style>\n",
       "<table border=\"1\" class=\"dataframe\">\n",
       "  <thead>\n",
       "    <tr style=\"text-align: right;\">\n",
       "      <th></th>\n",
       "      <th>Title</th>\n",
       "      <th>Authors</th>\n",
       "      <th>Year</th>\n",
       "      <th>Scopus Source title</th>\n",
       "      <th>Language</th>\n",
       "      <th>Citations</th>\n",
       "      <th>Field-Weighted Citation Impact</th>\n",
       "      <th>Reference</th>\n",
       "      <th>Abstract</th>\n",
       "      <th>Publication type</th>\n",
       "      <th>Open Access</th>\n",
       "      <th>EID</th>\n",
       "      <th>Institutions</th>\n",
       "      <th>Number of Institutions</th>\n",
       "    </tr>\n",
       "  </thead>\n",
       "  <tbody>\n",
       "    <tr>\n",
       "      <th>0</th>\n",
       "      <td>An index to quantify an individual's scientifi...</td>\n",
       "      <td>Hirsch, J.E.</td>\n",
       "      <td>2005</td>\n",
       "      <td>Proceedings of the National Academy of Science...</td>\n",
       "      <td>English</td>\n",
       "      <td>8964</td>\n",
       "      <td>13.42</td>\n",
       "      <td>Hirsch, J.E. (2005).An index to quantify an in...</td>\n",
       "      <td>https://www.scopus.com/record/display.url?eid=...</td>\n",
       "      <td>Article</td>\n",
       "      <td>Green</td>\n",
       "      <td>2-s2.0-28044445101</td>\n",
       "      <td>University of California at San Diego</td>\n",
       "      <td>1</td>\n",
       "    </tr>\n",
       "    <tr>\n",
       "      <th>1</th>\n",
       "      <td>Comparison of PubMed, Scopus, Web of Science, ...</td>\n",
       "      <td>Falagas, M.E.| Pitsouni, E.I.| Malietzis, G.A....</td>\n",
       "      <td>2008</td>\n",
       "      <td>FASEB Journal</td>\n",
       "      <td>English</td>\n",
       "      <td>3581</td>\n",
       "      <td>9.02</td>\n",
       "      <td>Falagas, M.E., Pitsouni, E.I., Malietzis, G.A....</td>\n",
       "      <td>https://www.scopus.com/record/display.url?eid=...</td>\n",
       "      <td>Article</td>\n",
       "      <td>NaN</td>\n",
       "      <td>2-s2.0-38949137710</td>\n",
       "      <td>Alfa Institute of Biomedical Sciences| Tufts U...</td>\n",
       "      <td>2</td>\n",
       "    </tr>\n",
       "    <tr>\n",
       "      <th>2</th>\n",
       "      <td>The journal coverage of Web of Science and Sco...</td>\n",
       "      <td>Mongeon, P.| Paul-Hus, A.</td>\n",
       "      <td>2016</td>\n",
       "      <td>Scientometrics</td>\n",
       "      <td>English</td>\n",
       "      <td>3161</td>\n",
       "      <td>65.67</td>\n",
       "      <td>Mongeon, P., Paul-Hus, A. (2016).The journal c...</td>\n",
       "      <td>https://www.scopus.com/record/display.url?eid=...</td>\n",
       "      <td>Article</td>\n",
       "      <td>NaN</td>\n",
       "      <td>2-s2.0-84954384742</td>\n",
       "      <td>University of Montreal</td>\n",
       "      <td>1</td>\n",
       "    </tr>\n",
       "    <tr>\n",
       "      <th>3</th>\n",
       "      <td>The history and meaning of the journal impact ...</td>\n",
       "      <td>Garfield, E.</td>\n",
       "      <td>2006</td>\n",
       "      <td>JAMA</td>\n",
       "      <td>English</td>\n",
       "      <td>2046</td>\n",
       "      <td>114.87</td>\n",
       "      <td>Garfield, E. (2006).The history and meaning of...</td>\n",
       "      <td>https://www.scopus.com/record/display.url?eid=...</td>\n",
       "      <td>Note</td>\n",
       "      <td>NaN</td>\n",
       "      <td>2-s2.0-29944438252</td>\n",
       "      <td>-</td>\n",
       "      <td>0</td>\n",
       "    </tr>\n",
       "    <tr>\n",
       "      <th>4</th>\n",
       "      <td>Why the impact factor of journals should not b...</td>\n",
       "      <td>Seglen, P.O.</td>\n",
       "      <td>1997</td>\n",
       "      <td>British Medical Journal</td>\n",
       "      <td>English</td>\n",
       "      <td>1972</td>\n",
       "      <td>18.87</td>\n",
       "      <td>Seglen, P.O. (1997).Why the impact factor of j...</td>\n",
       "      <td>https://www.scopus.com/record/display.url?eid=...</td>\n",
       "      <td>Article</td>\n",
       "      <td>NaN</td>\n",
       "      <td>2-s2.0-0031049280</td>\n",
       "      <td>-</td>\n",
       "      <td>0</td>\n",
       "    </tr>\n",
       "  </tbody>\n",
       "</table>\n",
       "</div>"
      ],
      "text/plain": [
       "                                               Title  \\\n",
       "0  An index to quantify an individual's scientifi...   \n",
       "1  Comparison of PubMed, Scopus, Web of Science, ...   \n",
       "2  The journal coverage of Web of Science and Sco...   \n",
       "3  The history and meaning of the journal impact ...   \n",
       "4  Why the impact factor of journals should not b...   \n",
       "\n",
       "                                             Authors  Year  \\\n",
       "0                                       Hirsch, J.E.  2005   \n",
       "1  Falagas, M.E.| Pitsouni, E.I.| Malietzis, G.A....  2008   \n",
       "2                          Mongeon, P.| Paul-Hus, A.  2016   \n",
       "3                                       Garfield, E.  2006   \n",
       "4                                       Seglen, P.O.  1997   \n",
       "\n",
       "                                 Scopus Source title Language  Citations  \\\n",
       "0  Proceedings of the National Academy of Science...  English       8964   \n",
       "1                                      FASEB Journal  English       3581   \n",
       "2                                     Scientometrics  English       3161   \n",
       "3                                               JAMA  English       2046   \n",
       "4                            British Medical Journal  English       1972   \n",
       "\n",
       "   Field-Weighted Citation Impact  \\\n",
       "0                           13.42   \n",
       "1                            9.02   \n",
       "2                           65.67   \n",
       "3                          114.87   \n",
       "4                           18.87   \n",
       "\n",
       "                                           Reference  \\\n",
       "0  Hirsch, J.E. (2005).An index to quantify an in...   \n",
       "1  Falagas, M.E., Pitsouni, E.I., Malietzis, G.A....   \n",
       "2  Mongeon, P., Paul-Hus, A. (2016).The journal c...   \n",
       "3  Garfield, E. (2006).The history and meaning of...   \n",
       "4  Seglen, P.O. (1997).Why the impact factor of j...   \n",
       "\n",
       "                                            Abstract Publication type  \\\n",
       "0  https://www.scopus.com/record/display.url?eid=...          Article   \n",
       "1  https://www.scopus.com/record/display.url?eid=...          Article   \n",
       "2  https://www.scopus.com/record/display.url?eid=...          Article   \n",
       "3  https://www.scopus.com/record/display.url?eid=...             Note   \n",
       "4  https://www.scopus.com/record/display.url?eid=...          Article   \n",
       "\n",
       "  Open Access                 EID  \\\n",
       "0       Green  2-s2.0-28044445101   \n",
       "1         NaN  2-s2.0-38949137710   \n",
       "2         NaN  2-s2.0-84954384742   \n",
       "3         NaN  2-s2.0-29944438252   \n",
       "4         NaN   2-s2.0-0031049280   \n",
       "\n",
       "                                        Institutions  Number of Institutions  \n",
       "0              University of California at San Diego                       1  \n",
       "1  Alfa Institute of Biomedical Sciences| Tufts U...                       2  \n",
       "2                             University of Montreal                       1  \n",
       "3                                                  -                       0  \n",
       "4                                                  -                       0  "
      ]
     },
     "execution_count": 14,
     "metadata": {},
     "output_type": "execute_result"
    }
   ],
   "source": [
    "df.head(5)"
   ]
  }
 ],
 "metadata": {
  "kernelspec": {
   "display_name": "scival_search",
   "language": "python",
   "name": "python3"
  },
  "language_info": {
   "codemirror_mode": {
    "name": "ipython",
    "version": 3
   },
   "file_extension": ".py",
   "mimetype": "text/x-python",
   "name": "python",
   "nbconvert_exporter": "python",
   "pygments_lexer": "ipython3",
   "version": "3.12.5"
  }
 },
 "nbformat": 4,
 "nbformat_minor": 5
}
