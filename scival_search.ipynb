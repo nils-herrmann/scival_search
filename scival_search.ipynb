{
 "cells": [
  {
   "cell_type": "code",
   "execution_count": null,
   "id": "ec32dac1",
   "metadata": {},
   "outputs": [],
   "source": [
    "import os\n",
    "import pandas as pd\n",
    "import requests\n",
    "\n",
    "\n",
    "from dotenv import load_dotenv\n",
    "from io import StringIO\n",
    "from math import ceil\n",
    "from tqdm import tqdm\n",
    "\n",
    "from pybliometrics.scival import PublicationLookup, init\n",
    "from utils import get_content, parse_scival_info, split_lines\n",
    "\n",
    "load_dotenv()\n",
    "init()\n",
    "\n",
    "# SET COOKIE in .env file\n",
    "COOKIE = os.getenv('COOKIE')"
   ]
  },
  {
   "cell_type": "code",
   "execution_count": null,
   "id": "e827b1f4",
   "metadata": {},
   "outputs": [],
   "source": [
    "# Get topic ID for pybliometrics paper\n",
    "pl = PublicationLookup('85068268027')\n",
    "topic_id = pl.topic_id"
   ]
  },
  {
   "cell_type": "code",
   "execution_count": null,
   "id": "21cc7918",
   "metadata": {},
   "outputs": [],
   "source": [
    "# Get first page content\n",
    "res_text = get_content(topic_id, cookie=COOKIE, page=1)\n",
    "\n",
    "# Split the response into intro and table data\n",
    "intro_lines, table_text = split_lines(res_text)\n",
    "\n",
    "info = parse_scival_info(intro_lines)\n",
    "n = info['total_publications']\n",
    "retrieved = info['publications_retrieved']\n",
    "num_pages = ceil(n / retrieved) - 1  # Subtract 1 since we already have page 1\n",
    "start = 2\n",
    "\n",
    "print(f\"Data for topic ID {topic_id}: {info[\"data_set\"]}\")\n",
    "print(f\"Year range: {info[\"start_year\"]} - {info[\"end_year\"]}\")\n",
    "print(f\"Total publications: {n}\")\n",
    "print(f\"Retrieved per page: {retrieved}\")"
   ]
  },
  {
   "cell_type": "code",
   "execution_count": null,
   "id": "f4a82ce3",
   "metadata": {},
   "outputs": [],
   "source": [
    "# Initialize list to store all table data\n",
    "all_table_lines = table_text.splitlines()[:-2]  # Exclude last two summary lines\n",
    "\n",
    "# Fetch remaining pages if there are more than 1 page\n",
    "if num_pages > 1:\n",
    "    for page in tqdm(range(start, start + num_pages), desc=\"Fetching pages\"):\n",
    "        text = get_content(topic_id, cookie=COOKIE, page=page)\n",
    "        \n",
    "        intro_lines, page_table_text = split_lines(text)\n",
    "        table_lines = page_table_text.splitlines()[1:-2] # Exclude header and last two summary lines\n",
    "\n",
    "        all_table_lines.extend(table_lines)"
   ]
  },
  {
   "cell_type": "code",
   "execution_count": null,
   "id": "b56c7531",
   "metadata": {},
   "outputs": [],
   "source": [
    "# Create DataFrame from complete dataset\n",
    "df = pd.read_csv(StringIO(\"\\n\".join(all_table_lines)))\n",
    "assert df.shape[0] == n, f\"Expected {n} rows, got {df.shape[0]}\""
   ]
  },
  {
   "cell_type": "code",
   "execution_count": null,
   "id": "405fa60c",
   "metadata": {},
   "outputs": [],
   "source": [
    "df"
   ]
  }
 ],
 "metadata": {
  "kernelspec": {
   "display_name": "scival_search",
   "language": "python",
   "name": "python3"
  },
  "language_info": {
   "codemirror_mode": {
    "name": "ipython",
    "version": 3
   },
   "file_extension": ".py",
   "mimetype": "text/x-python",
   "name": "python",
   "nbconvert_exporter": "python",
   "pygments_lexer": "ipython3",
   "version": "3.12.5"
  }
 },
 "nbformat": 4,
 "nbformat_minor": 5
}
