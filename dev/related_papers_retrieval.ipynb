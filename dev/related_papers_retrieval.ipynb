{
 "cells": [
  {
   "cell_type": "code",
   "execution_count": null,
   "id": "b90392b0",
   "metadata": {},
   "outputs": [],
   "source": [
    "from dotenv import dotenv_values\n",
    "import pandas as pd\n",
    "from tqdm.notebook import tqdm\n",
    "\n",
    "from scival_search import RelatedPapers\n",
    "\n",
    "env_vars = dotenv_values()\n",
    "COOKIE = env_vars['COOKIE']\n",
    "\n",
    "df = pd.read_csv(\"lookups.csv\", dtype={\"topic\": str})\n",
    "topics = list(set(df['topic'].tolist()))"
   ]
  },
  {
   "cell_type": "code",
   "execution_count": null,
   "id": "e5b9e857",
   "metadata": {},
   "outputs": [],
   "source": [
    "# Retrieve related papers for each topic\n",
    "all_related_papers = []\n",
    "\n",
    "for topic in tqdm(topics, desc=\"Topics\"):\n",
    "    related_papers = RelatedPapers(topic, cookie=COOKIE, show_progress=False)\n",
    "    results = related_papers.results\n",
    "    results[\"Topic\"] = topic\n",
    "    results_dict = results[[\"EID\", \"Year\", \"Topic\"]].to_dict(orient=\"records\")\n",
    "    all_related_papers.extend(results_dict)"
   ]
  },
  {
   "cell_type": "code",
   "execution_count": null,
   "id": "cbed3974",
   "metadata": {},
   "outputs": [],
   "source": [
    "pd.DataFrame(all_related_papers).to_csv(\"related_papers.csv\", index=False)"
   ]
  }
 ],
 "metadata": {
  "kernelspec": {
   "display_name": "scival_search",
   "language": "python",
   "name": "python3"
  },
  "language_info": {
   "codemirror_mode": {
    "name": "ipython",
    "version": 3
   },
   "file_extension": ".py",
   "mimetype": "text/x-python",
   "name": "python",
   "nbconvert_exporter": "python",
   "pygments_lexer": "ipython3",
   "version": "3.12.5"
  }
 },
 "nbformat": 4,
 "nbformat_minor": 5
}
