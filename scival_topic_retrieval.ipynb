{
 "cells": [
  {
   "cell_type": "markdown",
   "id": "cf9d4069",
   "metadata": {},
   "source": [
    "# Find Top Related Topics"
   ]
  },
  {
   "cell_type": "code",
   "execution_count": null,
   "id": "f07e7535",
   "metadata": {},
   "outputs": [],
   "source": [
    "import os\n",
    "import pandas as pd\n",
    "\n",
    "from dotenv import load_dotenv\n",
    "from io import StringIO\n",
    "\n",
    "from pybliometrics.scival import PublicationLookup, init\n",
    "from utils import get_content, split_lines\n",
    "\n",
    "load_dotenv()\n",
    "init()\n",
    "\n",
    "# SET COOKIE in .env file\n",
    "COOKIE = os.getenv('COOKIE')"
   ]
  },
  {
   "cell_type": "code",
   "execution_count": 2,
   "id": "0eaf491d",
   "metadata": {},
   "outputs": [],
   "source": [
    "# Get topic ID for pybliometrics paper\n",
    "pl = PublicationLookup('85068268027')\n",
    "topic_id = pl.topic_id"
   ]
  },
  {
   "cell_type": "code",
   "execution_count": null,
   "id": "c473b7ce",
   "metadata": {},
   "outputs": [],
   "source": [
    "# Get related topics table\n",
    "res_text = get_content(topic_id, api=\"related_topics\", cookie=COOKIE, page=1)"
   ]
  },
  {
   "cell_type": "code",
   "execution_count": 22,
   "id": "e511230b",
   "metadata": {},
   "outputs": [
    {
     "name": "stdout",
     "output_type": "stream",
     "text": [
      "Data set,\"\"Top 50 related Topics, by keyphrase match\"\"\n",
      "Entity,\"Impact of Citation Metrics on Scientific Evaluation (T.192)\"\n",
      "Year range,2020 to >2025\n"
     ]
    }
   ],
   "source": [
    "intro_lines, table_text = split_lines(res_text, api=\"related_topics\")\n",
    "\n",
    "print(\"\\n\".join(intro_lines[:3]))"
   ]
  },
  {
   "cell_type": "code",
   "execution_count": null,
   "id": "0b0977b1",
   "metadata": {},
   "outputs": [],
   "source": [
    "# There are 50 related topics\n",
    "n = 50\n",
    "# The table has 3 footer lines\n",
    "all_table_lines = table_text.splitlines()[:-3]\n",
    "\n",
    "df = pd.read_csv(StringIO(\"\\n\".join(all_table_lines)))\n",
    "assert df.shape[0] == n, f\"Expected {n} rows, got {df.shape[0]}\""
   ]
  },
  {
   "cell_type": "code",
   "execution_count": 19,
   "id": "269bba3c",
   "metadata": {},
   "outputs": [
    {
     "data": {
      "application/vnd.microsoft.datawrangler.viewer.v0+json": {
       "columns": [
        {
         "name": "index",
         "rawType": "int64",
         "type": "integer"
        },
        {
         "name": "Topics",
         "rawType": "object",
         "type": "string"
        },
        {
         "name": "Topic Number",
         "rawType": "object",
         "type": "string"
        },
        {
         "name": "Topic Cluster",
         "rawType": "object",
         "type": "string"
        },
        {
         "name": "Relatedness rank",
         "rawType": "int64",
         "type": "integer"
        },
        {
         "name": "Scholarly Output",
         "rawType": "int64",
         "type": "integer"
        },
        {
         "name": "Prominence percentile",
         "rawType": "float64",
         "type": "float"
        }
       ],
       "ref": "05c80892-08c8-40c2-8ebb-d211f156c252",
       "rows": [
        [
         "0",
         "Sleeping Beauties in Citation Dynamics",
         "T.35998",
         "Peer Review Dynamics in Biomedical Research Networks TC/101",
         "1",
         "149",
         "73.702"
        ],
        [
         "1",
         "Bibliometric Insights into Global Research Trends",
         "T.79084",
         "Peer Review Dynamics in Biomedical Research Networks TC/101",
         "2",
         "378",
         "91.342"
        ],
        [
         "2",
         "International Scientific Publication Trends and Challenges",
         "T.74396",
         "Peer Review Dynamics in Biomedical Research Networks TC/101",
         "3",
         "51",
         "53.541"
        ],
        [
         "3",
         "Impact of Social Media on Research Visibility",
         "T.5737",
         "Peer Review Dynamics in Biomedical Research Networks TC/101",
         "4",
         "1311",
         "94.375"
        ],
        [
         "4",
         "Research Output and Citation Trends in India",
         "T.57117",
         "Peer Review Dynamics in Biomedical Research Networks TC/101",
         "5",
         "115",
         "40.347"
        ]
       ],
       "shape": {
        "columns": 6,
        "rows": 5
       }
      },
      "text/html": [
       "<div>\n",
       "<style scoped>\n",
       "    .dataframe tbody tr th:only-of-type {\n",
       "        vertical-align: middle;\n",
       "    }\n",
       "\n",
       "    .dataframe tbody tr th {\n",
       "        vertical-align: top;\n",
       "    }\n",
       "\n",
       "    .dataframe thead th {\n",
       "        text-align: right;\n",
       "    }\n",
       "</style>\n",
       "<table border=\"1\" class=\"dataframe\">\n",
       "  <thead>\n",
       "    <tr style=\"text-align: right;\">\n",
       "      <th></th>\n",
       "      <th>Topics</th>\n",
       "      <th>Topic Number</th>\n",
       "      <th>Topic Cluster</th>\n",
       "      <th>Relatedness rank</th>\n",
       "      <th>Scholarly Output</th>\n",
       "      <th>Prominence percentile</th>\n",
       "    </tr>\n",
       "  </thead>\n",
       "  <tbody>\n",
       "    <tr>\n",
       "      <th>0</th>\n",
       "      <td>Sleeping Beauties in Citation Dynamics</td>\n",
       "      <td>T.35998</td>\n",
       "      <td>Peer Review Dynamics in Biomedical Research Ne...</td>\n",
       "      <td>1</td>\n",
       "      <td>149</td>\n",
       "      <td>73.702</td>\n",
       "    </tr>\n",
       "    <tr>\n",
       "      <th>1</th>\n",
       "      <td>Bibliometric Insights into Global Research Trends</td>\n",
       "      <td>T.79084</td>\n",
       "      <td>Peer Review Dynamics in Biomedical Research Ne...</td>\n",
       "      <td>2</td>\n",
       "      <td>378</td>\n",
       "      <td>91.342</td>\n",
       "    </tr>\n",
       "    <tr>\n",
       "      <th>2</th>\n",
       "      <td>International Scientific Publication Trends an...</td>\n",
       "      <td>T.74396</td>\n",
       "      <td>Peer Review Dynamics in Biomedical Research Ne...</td>\n",
       "      <td>3</td>\n",
       "      <td>51</td>\n",
       "      <td>53.541</td>\n",
       "    </tr>\n",
       "    <tr>\n",
       "      <th>3</th>\n",
       "      <td>Impact of Social Media on Research Visibility</td>\n",
       "      <td>T.5737</td>\n",
       "      <td>Peer Review Dynamics in Biomedical Research Ne...</td>\n",
       "      <td>4</td>\n",
       "      <td>1311</td>\n",
       "      <td>94.375</td>\n",
       "    </tr>\n",
       "    <tr>\n",
       "      <th>4</th>\n",
       "      <td>Research Output and Citation Trends in India</td>\n",
       "      <td>T.57117</td>\n",
       "      <td>Peer Review Dynamics in Biomedical Research Ne...</td>\n",
       "      <td>5</td>\n",
       "      <td>115</td>\n",
       "      <td>40.347</td>\n",
       "    </tr>\n",
       "  </tbody>\n",
       "</table>\n",
       "</div>"
      ],
      "text/plain": [
       "                                              Topics Topic Number  \\\n",
       "0             Sleeping Beauties in Citation Dynamics      T.35998   \n",
       "1  Bibliometric Insights into Global Research Trends      T.79084   \n",
       "2  International Scientific Publication Trends an...      T.74396   \n",
       "3      Impact of Social Media on Research Visibility       T.5737   \n",
       "4       Research Output and Citation Trends in India      T.57117   \n",
       "\n",
       "                                       Topic Cluster  Relatedness rank  \\\n",
       "0  Peer Review Dynamics in Biomedical Research Ne...                 1   \n",
       "1  Peer Review Dynamics in Biomedical Research Ne...                 2   \n",
       "2  Peer Review Dynamics in Biomedical Research Ne...                 3   \n",
       "3  Peer Review Dynamics in Biomedical Research Ne...                 4   \n",
       "4  Peer Review Dynamics in Biomedical Research Ne...                 5   \n",
       "\n",
       "   Scholarly Output  Prominence percentile  \n",
       "0               149                 73.702  \n",
       "1               378                 91.342  \n",
       "2                51                 53.541  \n",
       "3              1311                 94.375  \n",
       "4               115                 40.347  "
      ]
     },
     "execution_count": 19,
     "metadata": {},
     "output_type": "execute_result"
    }
   ],
   "source": [
    "df.head(5)"
   ]
  },
  {
   "cell_type": "code",
   "execution_count": null,
   "id": "28bec8bd",
   "metadata": {},
   "outputs": [],
   "source": []
  }
 ],
 "metadata": {
  "kernelspec": {
   "display_name": "scival_search",
   "language": "python",
   "name": "python3"
  },
  "language_info": {
   "codemirror_mode": {
    "name": "ipython",
    "version": 3
   },
   "file_extension": ".py",
   "mimetype": "text/x-python",
   "name": "python",
   "nbconvert_exporter": "python",
   "pygments_lexer": "ipython3",
   "version": "3.12.5"
  }
 },
 "nbformat": 4,
 "nbformat_minor": 5
}
